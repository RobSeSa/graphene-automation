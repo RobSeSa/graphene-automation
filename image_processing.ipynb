{
 "cells": [
  {
   "cell_type": "code",
   "execution_count": 1,
   "metadata": {},
   "outputs": [],
   "source": [
    "import cv2\n",
    "import numpy as np\n",
    "import matplotlib\n",
    "from matplotlib import pyplot as plt"
   ]
  },
  {
   "cell_type": "code",
   "execution_count": 2,
   "metadata": {},
   "outputs": [],
   "source": [
    "def lThresh(x):\n",
    "    print('Lower Threshold:', x)\n",
    "    \n",
    "def uThresh(x):\n",
    "    print('Upper Threshold:', x)"
   ]
  },
  {
   "cell_type": "code",
   "execution_count": 3,
   "metadata": {},
   "outputs": [
    {
     "name": "stdout",
     "output_type": "stream",
     "text": [
      "height: 4928\n",
      "width: 3264\n"
     ]
    }
   ],
   "source": [
    "img = cv2.imread(\"g1.jpg\", 1)# 1 = color, 0 = grayscale\n",
    "\n",
    "print(\"height:\", img.shape[0])\n",
    "print(\"width:\", img.shape[1])\n",
    "\n",
    "cv2.imshow(\"Original image\", img)\n",
    "cv2.waitKey(0)\n",
    "cv2.destroyAllWindows()"
   ]
  },
  {
   "cell_type": "code",
   "execution_count": null,
   "metadata": {},
   "outputs": [],
   "source": [
    "# trackbars\n",
    "cv2.namedWindow('Set Thresholds')\n",
    "cv2.createTrackbar('Lower Threshold', 'Set Thresholds', 0, 255, lThresh)\n",
    "cv2.createTrackbar('Upper Threshold', 'Set Thresholds', 0, 255, uThresh)\n",
    "\n",
    "\n",
    "titles = ['Graphene image', 'Canny Graphene image']\n",
    "while(1):\n",
    "    lower = cv2.getTrackbarPos('lowerThreshold', 'image')\n",
    "    upper = cv2.getTrackbarPos('upperThreshold', 'image')\n",
    "    canny = cv2.Canny(img, lower, upper)\n",
    "    small = cv2.resize(canny, (1000, 1000))\n",
    "    cv2.imshow('canny image', small)\n",
    "\n",
    "    #images = [img, canny]\n",
    "    #print(\"Showing images\")\n",
    "    #for i in range(2):\n",
    "    #    plt.subplot(1, 2, i+1), plt.imshow(images[i], 'gray')\n",
    "    #    plt.title(titles[i])\n",
    "    #    plt.xticks([]),plt.yticks([])\n",
    "\n",
    "    k = cv2.waitKey(0)\n",
    "    \n",
    "cv2.destroyAllWindows()"
   ]
  },
  {
   "cell_type": "code",
   "execution_count": null,
   "metadata": {},
   "outputs": [],
   "source": []
  }
 ],
 "metadata": {
  "kernelspec": {
   "display_name": "Python 3",
   "language": "python",
   "name": "python3"
  },
  "language_info": {
   "codemirror_mode": {
    "name": "ipython",
    "version": 3
   },
   "file_extension": ".py",
   "mimetype": "text/x-python",
   "name": "python",
   "nbconvert_exporter": "python",
   "pygments_lexer": "ipython3",
   "version": "3.7.3"
  }
 },
 "nbformat": 4,
 "nbformat_minor": 2
}
